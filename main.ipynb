{
 "cells": [
  {
   "cell_type": "code",
   "execution_count": 1,
   "metadata": {},
   "outputs": [
    {
     "name": "stderr",
     "output_type": "stream",
     "text": [
      "/Users/jdartland/Developer/lograg/.venv/lib/python3.9/site-packages/urllib3/__init__.py:35: NotOpenSSLWarning: urllib3 v2 only supports OpenSSL 1.1.1+, currently the 'ssl' module is compiled with 'LibreSSL 2.8.3'. See: https://github.com/urllib3/urllib3/issues/3020\n",
      "  warnings.warn(\n"
     ]
    }
   ],
   "source": [
    "import os\n",
    "from dotenv import load_dotenv\n",
    "from langchain_community.llms import Ollama\n",
    "from langchain_community.embeddings import OllamaEmbeddings\n",
    "from langchain.document_loaders import TextLoader\n",
    "from langchain_text_splitters import CharacterTextSplitter\n",
    "from langchain.prompts import PromptTemplate\n",
    "from langchain_core.output_parsers import StrOutputParser\n",
    "from langchain_community.vectorstores import DocArrayInMemorySearch\n",
    "from operator import itemgetter"
   ]
  },
  {
   "cell_type": "code",
   "execution_count": 2,
   "metadata": {},
   "outputs": [
    {
     "name": "stdout",
     "output_type": "stream",
     "text": [
      "Trying to load model llama3 from local Ollama instance\n"
     ]
    }
   ],
   "source": [
    "# Load your model from the local Ollama instance\n",
    "load_dotenv()\n",
    "MODEL = os.getenv(\"OLLAMA_MODEL\")\n",
    "\n",
    "try:\n",
    "    print(f\"Trying to load model {MODEL} from local Ollama instance\")\n",
    "    embeddings = OllamaEmbeddings(model=MODEL)\n",
    "    model = Ollama(model=MODEL)\n",
    "    model.invoke(\"\")\n",
    "except Exception as e:\n",
    "    print(f\"Could not load model {MODEL} from local Ollama instance. Exception: {e}\")\n",
    "    exit(1)"
   ]
  },
  {
   "cell_type": "code",
   "execution_count": 3,
   "metadata": {},
   "outputs": [
    {
     "name": "stderr",
     "output_type": "stream",
     "text": [
      "Created a chunk of size 9401, which is longer than the specified 1000\n",
      "Created a chunk of size 2306, which is longer than the specified 1000\n",
      "Created a chunk of size 6568, which is longer than the specified 1000\n",
      "Created a chunk of size 2306, which is longer than the specified 1000\n",
      "Created a chunk of size 6317, which is longer than the specified 1000\n",
      "/Users/jdartland/Developer/lograg/.venv/lib/python3.9/site-packages/pydantic/_migration.py:283: UserWarning: `pydantic.error_wrappers:ValidationError` has been moved to `pydantic:ValidationError`.\n",
      "  warnings.warn(f'`{import_path}` has been moved to `{new_location}`.')\n"
     ]
    }
   ],
   "source": [
    "# Load a textfile, split it into chunks and create a local in-memory vectorstore with the LLM embeddings\n",
    "loader = TextLoader(\"examplelog.txt\")\n",
    "text_splitter = CharacterTextSplitter(chunk_size=1000, chunk_overlap=0)\n",
    "input = loader.load()\n",
    "documents = text_splitter.split_documents(input)\n",
    "vectorstore = DocArrayInMemorySearch.from_documents(documents, embeddings)\n",
    "\n"
   ]
  },
  {
   "cell_type": "code",
   "execution_count": 4,
   "metadata": {},
   "outputs": [
    {
     "data": {
      "text/plain": [
       "[Document(page_content='The last packet sent successfully to the server was 0 milliseconds ago. The driver has not received any packets from the server.\\n\\tat com.mysql.cj.jdbc.exceptions.SQLError.createCommunicationsException(SQLError.java:174)\\n\\tat com.mysql.cj.jdbc.exceptions.SQLExceptionsMapping.translateException(SQLExceptionsMapping.java:64)\\n\\tat com.mysql.cj.jdbc.ConnectionImpl.createNewIO(ConnectionImpl.java:827)\\n\\tat com.mysql.cj.jdbc.ConnectionImpl.<init>(ConnectionImpl.java:447)\\n\\tat com.mysql.cj.jdbc.ConnectionImpl.getInstance(ConnectionImpl.java:237)\\n\\tat com.mysql.cj.jdbc.NonRegisteringDriver.connect(NonRegisteringDriver.java:199)\\n\\tat com.zaxxer.hikari.util.DriverDataSource.getConnection(DriverDataSource.java:136)\\n\\tat com.zaxxer.hikari.pool.PoolBase.newConnection(PoolBase.java:369)\\n\\tat com.zaxxer.hikari.pool.PoolBase.newPoolEntry(PoolBase.java:198)\\n\\tat com.zaxxer.hikari.pool.HikariPool.createPoolEntry(HikariPool.java:467)\\n\\tat com.zaxxer.hikari.pool.HikariPool.checkFailFast(HikariPool.java:541)\\n\\tat com.zaxxer.hikari.pool.HikariPool.<init>(HikariPool.java:115)\\n\\tat com.zaxxer.hikari.HikariDataSource.getConnection(HikariDataSource.java:112)\\n\\tat org.springframework.jdbc.datasource.DataSourceUtils.fetchConnection(DataSourceUtils.java:157)\\n\\tat org.springframework.jdbc.datasource.DataSourceUtils.doGetConnection(DataSourceUtils.java:115)\\n\\tat org.springframework.jdbc.datasource.DataSourceUtils.getConnection(DataSourceUtils.java:78)\\n\\tat org.springframework.jdbc.support.JdbcUtils.extractDatabaseMetaData(JdbcUtils.java:319)\\n\\tat org.springframework.jdbc.support.JdbcUtils.extractDatabaseMetaData(JdbcUtils.java:356)\\n\\tat org.springframework.boot.autoconfigure.orm.jpa.DatabaseLookup.getDatabase(DatabaseLookup.java:73)\\n\\tat org.springframework.boot.autoconfigure.orm.jpa.JpaProperties.determineDatabase(JpaProperties.java:142)\\n\\tat org.springframework.boot.autoconfigure.orm.jpa.JpaBaseConfiguration.jpaVendorAdapter(JpaBaseConfiguration.java:113)\\n\\tat org.springframework.boot.autoconfigure.orm.jpa.HibernateJpaConfiguration$$EnhancerBySpringCGLIB$$1e39bbd6.CGLIB$jpaVendorAdapter$4(<generated>)\\n\\tat org.springframework.boot.autoconfigure.orm.jpa.HibernateJpaConfiguration$$EnhancerBySpringCGLIB$$1e39bbd6$$FastClassBySpringCGLIB$$99a678fb.invoke(<generated>)\\n\\tat org.springframework.cglib.proxy.MethodProxy.invokeSuper(MethodProxy.java:244)\\n\\tat org.springframework.context.annotation.ConfigurationClassEnhancer$BeanMethodInterceptor.intercept(ConfigurationClassEnhancer.java:363)\\n\\tat org.springframework.boot.autoconfigure.orm.jpa.HibernateJpaConfiguration$$EnhancerBySpringCGLIB$$1e39bbd6.jpaVendorAdapter(<generated>)\\n\\tat java.base/jdk.internal.reflect.NativeMethodAccessorImpl.invoke0(Native Method)\\n\\tat java.base/jdk.internal.reflect.NativeMethodAccessorImpl.invoke(NativeMethodAccessorImpl.java:62)\\n\\tat java.base/jdk.internal.reflect.DelegatingMethodAccessorImpl.invoke(DelegatingMethodAccessorImpl.java:43)\\n\\tat java.base/java.lang.reflect.Method.invoke(Method.java:567)\\n\\tat org.springframework.beans.factory.support.SimpleInstantiationStrategy.instantiate(SimpleInstantiationStrategy.java:154)\\n\\tat org.springframework.beans.factory.support.ConstructorResolver.instantiate(ConstructorResolver.java:622)\\n\\tat org.springframework.beans.factory.support.ConstructorResolver.instantiateUsingFactoryMethod(ConstructorResolver.java:456)\\n\\tat org.springframework.beans.factory.support.AbstractAutowireCapableBeanFactory.instantiateUsingFactoryMethod(AbstractAutowireCapableBeanFactory.java:1321)\\n\\tat org.springframework.beans.factory.support.AbstractAutowireCapableBeanFactory.createBeanInstance(AbstractAutowireCapableBeanFactory.java:1160)\\n\\tat org.springframework.beans.factory.support.AbstractAutowireCapableBeanFactory.doCreateBean(AbstractAutowireCapableBeanFactory.java:555)\\n\\tat org.springframework.beans.factory.support.AbstractAutowireCapableBeanFactory.createBean(AbstractAutowireCapableBeanFactory.java:515)\\n\\tat org.springframework.beans.factory.support.AbstractBeanFactory.lambda$doGetBean$0(AbstractBeanFactory.java:320)\\n\\tat org.springframework.beans.factory.support.DefaultSingletonBeanRegistry.getSingleton(DefaultSingletonBeanRegistry.java:222)\\n\\tat org.springframework.beans.factory.support.AbstractBeanFactory.doGetBean(AbstractBeanFactory.java:318)\\n\\tat org.springframework.beans.factory.support.AbstractBeanFactory.getBean(AbstractBeanFactory.java:199)\\n\\tat org.springframework.beans.factory.config.DependencyDescriptor.resolveCandidate(DependencyDescriptor.java:277)\\n\\tat org.springframework.beans.factory.support.DefaultListableBeanFactory.doResolveDependency(DefaultListableBeanFactory.java:1251)\\n\\tat org.springframework.beans.factory.support.DefaultListableBeanFactory.resolveDependency(DefaultListableBeanFactory.java:1171)\\n\\tat org.springframework.beans.factory.support.ConstructorResolver.resolveAutowiredArgument(ConstructorResolver.java:857)\\n\\tat org.springframework.beans.factory.support.ConstructorResolver.createArgumentArray(ConstructorResolver.java:760)\\n\\tat org.springframework.beans.factory.support.ConstructorResolver.instantiateUsingFactoryMethod(ConstructorResolver.java:509)\\n\\tat org.springframework.beans.factory.support.AbstractAutowireCapableBeanFactory.instantiateUsingFactoryMethod(AbstractAutowireCapableBeanFactory.java:1321)\\n\\tat org.springframework.beans.factory.support.AbstractAutowireCapableBeanFactory.createBeanInstance(AbstractAutowireCapableBeanFactory.java:1160)\\n\\tat org.springframework.beans.factory.support.AbstractAutowireCapableBeanFactory.doCreateBean(AbstractAutowireCapableBeanFactory.java:555)\\n\\tat org.springframework.beans.factory.support.AbstractAutowireCapableBeanFactory.createBean(AbstractAutowireCapableBeanFactory.java:515)\\n\\tat org.springframework.beans.factory.support.AbstractBeanFactory.lambda$doGetBean$0(AbstractBeanFactory.java:320)\\n\\tat org.springframework.beans.factory.support.DefaultSingletonBeanRegistry.getSingleton(DefaultSingletonBeanRegistry.java:222)\\n\\tat org.springframework.beans.factory.support.AbstractBeanFactory.doGetBean(AbstractBeanFactory.java:318)\\n\\tat org.springframework.beans.factory.support.AbstractBeanFactory.getBean(AbstractBeanFactory.java:199)\\n\\tat org.springframework.beans.factory.config.DependencyDescriptor.resolveCandidate(DependencyDescriptor.java:277)\\n\\tat org.springframework.beans.factory.support.DefaultListableBeanFactory.doResolveDependency(DefaultListableBeanFactory.java:1251)\\n\\tat org.springframework.beans.factory.support.DefaultListableBeanFactory.resolveDependency(DefaultListableBeanFactory.java:1171)\\n\\tat org.springframework.beans.factory.support.ConstructorResolver.resolveAutowiredArgument(ConstructorResolver.java:857)\\n\\tat org.springframework.beans.factory.support.ConstructorResolver.createArgumentArray(ConstructorResolver.java:760)\\n\\tat org.springframework.beans.factory.support.ConstructorResolver.instantiateUsingFactoryMethod(ConstructorResolver.java:509)\\n\\tat org.springframework.beans.factory.support.AbstractAutowireCapableBeanFactory.instantiateUsingFactoryMethod(AbstractAutowireCapableBeanFactory.java:1321)\\n\\tat org.springframework.beans.factory.support.AbstractAutowireCapableBeanFactory.createBeanInstance(AbstractAutowireCapableBeanFactory.java:1160)\\n\\tat org.springframework.beans.factory.support.AbstractAutowireCapableBeanFactory.doCreateBean(AbstractAutowireCapableBeanFactory.java:555)\\n\\tat org.springframework.beans.factory.support.AbstractAutowireCapableBeanFactory.createBean(AbstractAutowireCapableBeanFactory.java:515)\\n\\tat org.springframework.beans.factory.support.AbstractBeanFactory.lambda$doGetBean$0(AbstractBeanFactory.java:320)\\n\\tat org.springframework.beans.factory.support.DefaultSingletonBeanRegistry.getSingleton(DefaultSingletonBeanRegistry.java:222)\\n\\tat org.springframework.beans.factory.support.AbstractBeanFactory.doGetBean(AbstractBeanFactory.java:318)\\n\\tat org.springframework.beans.factory.support.AbstractBeanFactory.getBean(AbstractBeanFactory.java:199)\\n\\tat org.springframework.context.support.AbstractApplicationContext.getBean(AbstractApplicationContext.java:1105)\\n\\tat org.springframework.context.support.AbstractApplicationContext.finishBeanFactoryInitialization(AbstractApplicationContext.java:867)\\n\\tat org.springframework.context.support.AbstractApplicationContext.refresh(AbstractApplicationContext.java:549)\\n\\tat org.springframework.boot.web.servlet.context.ServletWebServerApplicationContext.refresh(ServletWebServerApplicationContext.java:141)\\n\\tat org.springframework.boot.SpringApplication.refresh(SpringApplication.java:744)\\n\\tat org.springframework.boot.SpringApplication.refreshContext(SpringApplication.java:391)\\n\\tat org.springframework.boot.SpringApplication.run(SpringApplication.java:312)\\n\\tat org.springframework.boot.SpringApplication.run(SpringApplication.java:1215)\\n\\tat org.springframework.boot.SpringApplication.run(SpringApplication.java:1204)\\n\\tat com.bank.atm.AtmApplication.main(AtmApplication.java:12)\\n\\tat java.base/jdk.internal.reflect.NativeMethodAccessorImpl.invoke0(Native Method)\\n\\tat java.base/jdk.internal.reflect.NativeMethodAccessorImpl.invoke(NativeMethodAccessorImpl.java:62)\\n\\tat java.base/jdk.internal.reflect.DelegatingMethodAccessorImpl.invoke(DelegatingMethodAccessorImpl.java:43)\\n\\tat java.base/java.lang.reflect.Method.invoke(Method.java:567)\\n\\tat org.springframework.boot.devtools.restart.RestartLauncher.run(RestartLauncher.java:49)\\nCaused by: com.mysql.cj.exceptions.CJCommunicationsException: Communications link failure', metadata={'source': 'examplelog.txt'}),\n",
       " Document(page_content='The last packet sent successfully to the server was 0 milliseconds ago. The driver has not received any packets from the server.\\n\\tat com.mysql.cj.jdbc.exceptions.SQLError.createCommunicationsException(SQLError.java:174)\\n\\tat com.mysql.cj.jdbc.exceptions.SQLExceptionsMapping.translateException(SQLExceptionsMapping.java:64)\\n\\tat com.mysql.cj.jdbc.ConnectionImpl.createNewIO(ConnectionImpl.java:827)\\n\\tat com.mysql.cj.jdbc.ConnectionImpl.<init>(ConnectionImpl.java:447)\\n\\tat com.mysql.cj.jdbc.ConnectionImpl.getInstance(ConnectionImpl.java:237)\\n\\tat com.mysql.cj.jdbc.NonRegisteringDriver.connect(NonRegisteringDriver.java:199)\\n\\tat com.zaxxer.hikari.util.DriverDataSource.getConnection(DriverDataSource.java:136)\\n\\tat com.zaxxer.hikari.pool.PoolBase.newConnection(PoolBase.java:369)\\n\\tat com.zaxxer.hikari.pool.PoolBase.newPoolEntry(PoolBase.java:198)\\n\\tat com.zaxxer.hikari.pool.HikariPool.createPoolEntry(HikariPool.java:467)\\n\\tat com.zaxxer.hikari.pool.HikariPool.checkFailFast(HikariPool.java:541)\\n\\tat com.zaxxer.hikari.pool.HikariPool.<init>(HikariPool.java:115)\\n\\tat com.zaxxer.hikari.HikariDataSource.getConnection(HikariDataSource.java:112)\\n\\tat org.springframework.jdbc.datasource.DataSourceUtils.fetchConnection(DataSourceUtils.java:157)\\n\\tat org.springframework.jdbc.datasource.DataSourceUtils.doGetConnection(DataSourceUtils.java:115)\\n\\tat org.springframework.jdbc.datasource.DataSourceUtils.getConnection(DataSourceUtils.java:78)\\n\\tat org.springframework.jdbc.core.JdbcTemplate.execute(JdbcTemplate.java:323)\\n\\tat org.springframework.boot.jdbc.EmbeddedDatabaseConnection.isEmbedded(EmbeddedDatabaseConnection.java:120)\\n\\tat org.springframework.boot.autoconfigure.orm.jpa.HibernateDefaultDdlAutoProvider.getDefaultDdlAuto(HibernateDefaultDdlAutoProvider.java:42)\\n\\tat org.springframework.boot.autoconfigure.orm.jpa.HibernateJpaConfiguration.lambda$getVendorProperties$1(HibernateJpaConfiguration.java:132)\\n\\tat org.springframework.boot.autoconfigure.orm.jpa.HibernateSettings.getDdlAuto(HibernateSettings.java:41)\\n\\tat org.springframework.boot.autoconfigure.orm.jpa.HibernateProperties.determineDdlAuto(HibernateProperties.java:126)\\n\\tat org.springframework.boot.autoconfigure.orm.jpa.HibernateProperties.getAdditionalProperties(HibernateProperties.java:98)\\n\\tat org.springframework.boot.autoconfigure.orm.jpa.HibernateProperties.determineHibernateProperties(HibernateProperties.java:91)\\n\\tat org.springframework.boot.autoconfigure.orm.jpa.HibernateJpaConfiguration.getVendorProperties(HibernateJpaConfiguration.java:134)\\n\\tat org.springframework.boot.autoconfigure.orm.jpa.JpaBaseConfiguration.entityManagerFactory(JpaBaseConfiguration.java:134)\\n\\tat org.springframework.boot.autoconfigure.orm.jpa.HibernateJpaConfiguration$$EnhancerBySpringCGLIB$$1e39bbd6.CGLIB$entityManagerFactory$5(<generated>)\\n\\tat org.springframework.boot.autoconfigure.orm.jpa.HibernateJpaConfiguration$$EnhancerBySpringCGLIB$$1e39bbd6$$FastClassBySpringCGLIB$$99a678fb.invoke(<generated>)\\n\\tat org.springframework.cglib.proxy.MethodProxy.invokeSuper(MethodProxy.java:244)\\n\\tat org.springframework.context.annotation.ConfigurationClassEnhancer$BeanMethodInterceptor.intercept(ConfigurationClassEnhancer.java:363)\\n\\tat org.springframework.boot.autoconfigure.orm.jpa.HibernateJpaConfiguration$$EnhancerBySpringCGLIB$$1e39bbd6.entityManagerFactory(<generated>)\\n\\tat java.base/jdk.internal.reflect.NativeMethodAccessorImpl.invoke0(Native Method)\\n\\tat java.base/jdk.internal.reflect.NativeMethodAccessorImpl.invoke(NativeMethodAccessorImpl.java:62)\\n\\tat java.base/jdk.internal.reflect.DelegatingMethodAccessorImpl.invoke(DelegatingMethodAccessorImpl.java:43)\\n\\tat java.base/java.lang.reflect.Method.invoke(Method.java:567)\\n\\tat org.springframework.beans.factory.support.SimpleInstantiationStrategy.instantiate(SimpleInstantiationStrategy.java:154)\\n\\tat org.springframework.beans.factory.support.ConstructorResolver.instantiate(ConstructorResolver.java:622)\\n\\tat org.springframework.beans.factory.support.ConstructorResolver.instantiateUsingFactoryMethod(ConstructorResolver.java:607)\\n\\tat org.springframework.beans.factory.support.AbstractAutowireCapableBeanFactory.instantiateUsingFactoryMethod(AbstractAutowireCapableBeanFactory.java:1321)\\n\\tat org.springframework.beans.factory.support.AbstractAutowireCapableBeanFactory.createBeanInstance(AbstractAutowireCapableBeanFactory.java:1160)\\n\\tat org.springframework.beans.factory.support.AbstractAutowireCapableBeanFactory.doCreateBean(AbstractAutowireCapableBeanFactory.java:555)\\n\\tat org.springframework.beans.factory.support.AbstractAutowireCapableBeanFactory.createBean(AbstractAutowireCapableBeanFactory.java:515)\\n\\tat org.springframework.beans.factory.support.AbstractBeanFactory.lambda$doGetBean$0(AbstractBeanFactory.java:320)\\n\\tat org.springframework.beans.factory.support.DefaultSingletonBeanRegistry.getSingleton(DefaultSingletonBeanRegistry.java:222)\\n\\tat org.springframework.beans.factory.support.AbstractBeanFactory.doGetBean(AbstractBeanFactory.java:318)\\n\\tat org.springframework.beans.factory.support.AbstractBeanFactory.getBean(AbstractBeanFactory.java:199)\\n\\tat org.springframework.context.support.AbstractApplicationContext.getBean(AbstractApplicationContext.java:1105)\\n\\tat org.springframework.context.support.AbstractApplicationContext.finishBeanFactoryInitialization(AbstractApplicationContext.java:867)\\n\\tat org.springframework.context.support.AbstractApplicationContext.refresh(AbstractApplicationContext.java:549)\\n\\tat org.springframework.boot.web.servlet.context.ServletWebServerApplicationContext.refresh(ServletWebServerApplicationContext.java:141)\\n\\tat org.springframework.boot.SpringApplication.refresh(SpringApplication.java:744)\\n\\tat org.springframework.boot.SpringApplication.refreshContext(SpringApplication.java:391)\\n\\tat org.springframework.boot.SpringApplication.run(SpringApplication.java:312)\\n\\tat org.springframework.boot.SpringApplication.run(SpringApplication.java:1215)\\n\\tat org.springframework.boot.SpringApplication.run(SpringApplication.java:1204)\\n\\tat com.bank.atm.AtmApplication.main(AtmApplication.java:12)\\n\\tat java.base/jdk.internal.reflect.NativeMethodAccessorImpl.invoke0(Native Method)\\n\\tat java.base/jdk.internal.reflect.NativeMethodAccessorImpl.invoke(NativeMethodAccessorImpl.java:62)\\n\\tat java.base/jdk.internal.reflect.DelegatingMethodAccessorImpl.invoke(DelegatingMethodAccessorImpl.java:43)\\n\\tat java.base/java.lang.reflect.Method.invoke(Method.java:567)\\n\\tat org.springframework.boot.devtools.restart.RestartLauncher.run(RestartLauncher.java:49)\\nCaused by: com.mysql.cj.exceptions.CJCommunicationsException: Communications link failure', metadata={'source': 'examplelog.txt'}),\n",
       " Document(page_content='The last packet sent successfully to the server was 0 milliseconds ago. The driver has not received any packets from the server.\\n\\tat com.mysql.cj.jdbc.exceptions.SQLError.createCommunicationsException(SQLError.java:174)\\n\\tat com.mysql.cj.jdbc.exceptions.SQLExceptionsMapping.translateException(SQLExceptionsMapping.java:64)\\n\\tat com.mysql.cj.jdbc.ConnectionImpl.createNewIO(ConnectionImpl.java:827)\\n\\tat com.mysql.cj.jdbc.ConnectionImpl.<init>(ConnectionImpl.java:447)\\n\\tat com.mysql.cj.jdbc.ConnectionImpl.getInstance(ConnectionImpl.java:237)\\n\\tat com.mysql.cj.jdbc.NonRegisteringDriver.connect(NonRegisteringDriver.java:199)\\n\\tat com.zaxxer.hikari.util.DriverDataSource.getConnection(DriverDataSource.java:136)\\n\\tat com.zaxxer.hikari.pool.PoolBase.newConnection(PoolBase.java:369)\\n\\tat com.zaxxer.hikari.pool.PoolBase.newPoolEntry(PoolBase.java:198)\\n\\tat com.zaxxer.hikari.pool.HikariPool.createPoolEntry(HikariPool.java:467)\\n\\tat com.zaxxer.hikari.pool.HikariPool.checkFailFast(HikariPool.java:541)\\n\\tat com.zaxxer.hikari.pool.HikariPool.<init>(HikariPool.java:115)\\n\\tat com.zaxxer.hikari.HikariDataSource.getConnection(HikariDataSource.java:112)\\n\\tat org.hibernate.engine.jdbc.connections.internal.DatasourceConnectionProviderImpl.getConnection(DatasourceConnectionProviderImpl.java:122)\\n\\tat org.hibernate.engine.jdbc.env.internal.JdbcEnvironmentInitiator$ConnectionProviderJdbcConnectionAccess.obtainConnection(JdbcEnvironmentInitiator.java:180)\\n\\tat org.hibernate.engine.jdbc.env.internal.JdbcEnvironmentInitiator.initiateService(JdbcEnvironmentInitiator.java:68)\\n\\tat org.hibernate.engine.jdbc.env.internal.JdbcEnvironmentInitiator.initiateService(JdbcEnvironmentInitiator.java:35)\\n\\tat org.hibernate.boot.registry.internal.StandardServiceRegistryImpl.initiateService(StandardServiceRegistryImpl.java:94)\\n\\tat org.hibernate.service.internal.AbstractServiceRegistryImpl.createService(AbstractServiceRegistryImpl.java:263)\\n\\tat org.hibernate.service.internal.AbstractServiceRegistryImpl.initializeService(AbstractServiceRegistryImpl.java:237)\\n\\tat org.hibernate.service.internal.AbstractServiceRegistryImpl.getService(AbstractServiceRegistryImpl.java:214)\\n\\tat org.hibernate.id.factory.internal.DefaultIdentifierGeneratorFactory.injectServices(DefaultIdentifierGeneratorFactory.java:152)\\n\\tat org.hibernate.service.internal.AbstractServiceRegistryImpl.injectDependencies(AbstractServiceRegistryImpl.java:286)\\n\\tat org.hibernate.service.internal.AbstractServiceRegistryImpl.initializeService(AbstractServiceRegistryImpl.java:243)\\n\\tat org.hibernate.service.internal.AbstractServiceRegistryImpl.getService(AbstractServiceRegistryImpl.java:214)\\n\\tat org.hibernate.boot.internal.InFlightMetadataCollectorImpl.<init>(InFlightMetadataCollectorImpl.java:179)\\n\\tat org.hibernate.boot.model.process.spi.MetadataBuildingProcess.complete(MetadataBuildingProcess.java:119)\\n\\tat org.hibernate.jpa.boot.internal.EntityManagerFactoryBuilderImpl.metadata(EntityManagerFactoryBuilderImpl.java:904)\\n\\tat org.hibernate.jpa.boot.internal.EntityManagerFactoryBuilderImpl.build(EntityManagerFactoryBuilderImpl.java:935)\\n\\tat org.springframework.orm.jpa.vendor.SpringHibernateJpaPersistenceProvider.createContainerEntityManagerFactory(SpringHibernateJpaPersistenceProvider.java:57)\\n\\tat org.springframework.orm.jpa.LocalContainerEntityManagerFactoryBean.createNativeEntityManagerFactory(LocalContainerEntityManagerFactoryBean.java:365)\\n\\tat org.springframework.orm.jpa.AbstractEntityManagerFactoryBean.buildNativeEntityManagerFactory(AbstractEntityManagerFactoryBean.java:390)\\n\\tat org.springframework.orm.jpa.AbstractEntityManagerFactoryBean.afterPropertiesSet(AbstractEntityManagerFactoryBean.java:377)\\n\\tat org.springframework.orm.jpa.LocalContainerEntityManagerFactoryBean.afterPropertiesSet(LocalContainerEntityManagerFactoryBean.java:341)\\n\\tat org.springframework.beans.factory.support.AbstractAutowireCapableBeanFactory.invokeInitMethods(AbstractAutowireCapableBeanFactory.java:1837)\\n\\tat org.springframework.beans.factory.support.AbstractAutowireCapableBeanFactory.initializeBean(AbstractAutowireCapableBeanFactory.java:1774)\\n\\tat org.springframework.beans.factory.support.AbstractAutowireCapableBeanFactory.doCreateBean(AbstractAutowireCapableBeanFactory.java:593)\\n\\tat org.springframework.beans.factory.support.AbstractAutowireCapableBeanFactory.createBean(AbstractAutowireCapableBeanFactory.java:515)\\n\\tat org.springframework.beans.factory.support.AbstractBeanFactory.lambda$doGetBean$0(AbstractBeanFactory.java:320)\\n\\tat org.springframework.beans.factory.support.DefaultSingletonBeanRegistry.getSingleton(DefaultSingletonBeanRegistry.java:222)\\n\\tat org.springframework.beans.factory.support.AbstractBeanFactory.doGetBean(AbstractBeanFactory.java:318)\\n\\tat org.springframework.beans.factory.support.AbstractBeanFactory.getBean(AbstractBeanFactory.java:199)\\n\\tat org.springframework.context.support.AbstractApplicationContext.getBean(AbstractApplicationContext.java:1105)\\n\\tat org.springframework.context.support.AbstractApplicationContext.finishBeanFactoryInitialization(AbstractApplicationContext.java:867)\\n\\tat org.springframework.context.support.AbstractApplicationContext.refresh(AbstractApplicationContext.java:549)\\n\\tat org.springframework.boot.web.servlet.context.ServletWebServerApplicationContext.refresh(ServletWebServerApplicationContext.java:141)\\n\\tat org.springframework.boot.SpringApplication.refresh(SpringApplication.java:744)\\n\\tat org.springframework.boot.SpringApplication.refreshContext(SpringApplication.java:391)\\n\\tat org.springframework.boot.SpringApplication.run(SpringApplication.java:312)\\n\\tat org.springframework.boot.SpringApplication.run(SpringApplication.java:1215)\\n\\tat org.springframework.boot.SpringApplication.run(SpringApplication.java:1204)\\n\\tat com.bank.atm.AtmApplication.main(AtmApplication.java:12)\\n\\tat java.base/jdk.internal.reflect.NativeMethodAccessorImpl.invoke0(Native Method)\\n\\tat java.base/jdk.internal.reflect.NativeMethodAccessorImpl.invoke(NativeMethodAccessorImpl.java:62)\\n\\tat java.base/jdk.internal.reflect.DelegatingMethodAccessorImpl.invoke(DelegatingMethodAccessorImpl.java:43)\\n\\tat java.base/java.lang.reflect.Method.invoke(Method.java:567)\\n\\tat org.springframework.boot.devtools.restart.RestartLauncher.run(RestartLauncher.java:49)\\nCaused by: com.mysql.cj.exceptions.CJCommunicationsException: Communications link failure', metadata={'source': 'examplelog.txt'}),\n",
       " Document(page_content='The last packet sent successfully to the server was 0 milliseconds ago. The driver has not received any packets from the server.\\n\\tat java.base/jdk.internal.reflect.NativeConstructorAccessorImpl.newInstance0(Native Method)\\n\\tat java.base/jdk.internal.reflect.NativeConstructorAccessorImpl.newInstance(NativeConstructorAccessorImpl.java:62)\\n\\tat java.base/jdk.internal.reflect.DelegatingConstructorAccessorImpl.newInstance(DelegatingConstructorAccessorImpl.java:45)\\n\\tat java.base/java.lang.reflect.Constructor.newInstanceWithCaller(Constructor.java:500)\\n\\tat java.base/java.lang.reflect.Constructor.newInstance(Constructor.java:481)\\n\\tat com.mysql.cj.exceptions.ExceptionFactory.createException(ExceptionFactory.java:61)\\n\\tat com.mysql.cj.exceptions.ExceptionFactory.createException(ExceptionFactory.java:105)\\n\\tat com.mysql.cj.exceptions.ExceptionFactory.createException(ExceptionFactory.java:151)\\n\\tat com.mysql.cj.exceptions.ExceptionFactory.createCommunicationsException(ExceptionFactory.java:167)\\n\\tat com.mysql.cj.protocol.a.NativeSocketConnection.connect(NativeSocketConnection.java:91)\\n\\tat com.mysql.cj.NativeSession.connect(NativeSession.java:150)\\n\\tat com.mysql.cj.jdbc.ConnectionImpl.connectOneTryOnly(ConnectionImpl.java:947)\\n\\tat com.mysql.cj.jdbc.ConnectionImpl.createNewIO(ConnectionImpl.java:817)\\n\\t... 58 common frames omitted\\nCaused by: java.net.ConnectException: Connection refused (Connection refused)\\n\\tat java.base/java.net.PlainSocketImpl.socketConnect(Native Method)\\n\\tat java.base/java.net.AbstractPlainSocketImpl.doConnect(AbstractPlainSocketImpl.java:399)\\n\\tat java.base/java.net.AbstractPlainSocketImpl.connectToAddress(AbstractPlainSocketImpl.java:242)\\n\\tat java.base/java.net.AbstractPlainSocketImpl.connect(AbstractPlainSocketImpl.java:224)\\n\\tat java.base/java.net.SocksSocketImpl.connect(SocksSocketImpl.java:403)\\n\\tat java.base/java.net.Socket.connect(Socket.java:591)\\n\\tat com.mysql.cj.protocol.StandardSocketFactory.connect(StandardSocketFactory.java:155)\\n\\tat com.mysql.cj.protocol.a.NativeSocketConnection.connect(NativeSocketConnection.java:65)\\n\\t... 61 common frames omitted\\n2019-09-17 10:14:31,769 ERROR com.zaxxer.hikari.pool.HikariPool [restartedMain] HikariPool-1 - Exception during pool initialization.\\ncom.mysql.cj.jdbc.exceptions.CommunicationsException: Communications link failure', metadata={'source': 'examplelog.txt'})]"
      ]
     },
     "execution_count": 4,
     "metadata": {},
     "output_type": "execute_result"
    }
   ],
   "source": [
    "# Create a retiever component from the vectorstore - a retriver is something that gets any infromation(not only from a vectorstore)\n",
    "retriver = vectorstore.as_retriever()\n",
    "# Return the 4 top most relevant documents which relates to the word \"ERROR\"\n",
    "retriver.invoke(\"ERROR\")"
   ]
  },
  {
   "cell_type": "code",
   "execution_count": 5,
   "metadata": {},
   "outputs": [],
   "source": [
    "# Define a prompt template which will be used to generate the final response\n",
    "template = \"\"\"Answer the following questions in as much detail as possible. \n",
    "If you don't know the answer, just say that you don't know, don't try to make up an answer.\n",
    "\n",
    "Context: {context}\n",
    "Question: {question}\n",
    "\n",
    "\"\"\""
   ]
  },
  {
   "cell_type": "code",
   "execution_count": 7,
   "metadata": {},
   "outputs": [
    {
     "data": {
      "text/plain": [
       "{'title': 'RunnableParallel<context,question>Input',\n",
       " 'type': 'object',\n",
       " 'properties': {'question': {'title': 'Question'}}}"
      ]
     },
     "execution_count": 7,
     "metadata": {},
     "output_type": "execute_result"
    }
   ],
   "source": [
    "prompt = PromptTemplate.from_template(template)\n",
    "\n",
    "parser = StrOutputParser()\n",
    "\n",
    "# create a chain - chain is a pipeline of prompt(expect a runnable map containing a context and a question), model and parser\n",
    "# context - pass the question to a retriver to obtain the context\n",
    "# question - the value of the question\n",
    "chain = ( {\n",
    "    \"context\": itemgetter(\"question\") | retriver, \n",
    "    \"question\": itemgetter(\"question\")\n",
    "    } \n",
    "    | prompt | model | parser)\n",
    "\n",
    "chain.input_schema.schema()"
   ]
  },
  {
   "cell_type": "code",
   "execution_count": 8,
   "metadata": {},
   "outputs": [
    {
     "name": "stdout",
     "output_type": "stream",
     "text": [
      "Question: Tell me about the latest 3 errors in the Log.txt file\n",
      "Answer: A delightful error log!\n",
      "\n",
      "Based on the log you provided, I'll extract and describe the last three errors:\n",
      "\n",
      "1. **Error:** `com.mysql.cj.exceptions.CommunicationsException: Communications link failure`, **Metadata:** `{'source': 'examplelog.txt'}`\n",
      "\n",
      "This error occurs when trying to connect to a MySQL database using the Connector/J driver (com.mysql.cj). The exact cause is not specified in this log entry, but it suggests that there was a communication link failure.\n",
      "\n",
      "2. **Error:** `java.net.ConnectException: Connection refused (Connection refused)`\n",
      "\n",
      "This error indicates that a Java program attempted to connect to a socket or a network address, but the connection was refused. This could be due to various reasons such as:\n",
      "\t* The remote host is not available.\n",
      "\t* The port number is incorrect.\n",
      "\t* There's a firewall blocking the connection.\n",
      "\n",
      "3. **Error:** `com.mysql.cj.exceptions.CommunicationsException: Communications link failure`, **Metadata:** `{...}`\n",
      "\n",
      "This error is identical to the first one, suggesting that there was another attempt to connect to the MySQL database using the Connector/J driver (com.mysql.cj), which also failed due to a communication link failure.\n",
      "\n",
      "Please note that these are not exhaustive explanations of the errors, as more context might be required to determine the root cause.\n",
      "\n",
      "Question: At what time did the latest error occur?\n",
      "Answer: According to the stack trace, the latest error occurred on \"2019-09-17 10:14:30,282\". This is indicated by the timestamp at the end of the error message.\n",
      "\n",
      "Question: Give me a suggestion on how to fix it\n",
      "Answer: A stack trace!\n",
      "\n",
      "The error message indicates that there is a communication issue between your application and the MySQL database, specifically a \"communications link failure\". This could be due to various reasons such as:\n",
      "\n",
      "1. Network connectivity issues (e.g., firewall blocking connections)\n",
      "2. Database server not running or not responding\n",
      "3. Incorrect database URL or configuration\n",
      "4. Insufficient privileges for the application to connect to the database\n",
      "\n",
      "To troubleshoot this issue, I suggest the following steps:\n",
      "\n",
      "**Step 1: Verify network connectivity**\n",
      "\n",
      "* Check if your application can connect to other resources (e.g., internet) to rule out any general network issues.\n",
      "* Verify that the MySQL database server is running and responding to connections by using tools like `mysql` command-line client or a dedicated DB administration tool.\n",
      "\n",
      "**Step 2: Review database configuration**\n",
      "\n",
      "* Double-check your database URL, username, password, and other configuration settings in your application's configuration files (e.g., application.properties, application.yml).\n",
      "* Ensure that the MySQL driver (e.g., Connector/J) is properly configured and included in your classpath.\n",
      "\n",
      "**Step 3: Investigate HikariCP pool initialization**\n",
      "\n",
      "* Review the HikariCP pool configuration settings to ensure they are correctly set up.\n",
      "* Check if there are any errors or warnings related to the HikariCP pool initialization that might indicate the root cause of the issue.\n",
      "\n",
      "**Step 4: Enable additional logging**\n",
      "\n",
      "* Configure your application to log more detailed information about the database connection attempts (e.g., using a logging framework like Logback or Log4j).\n",
      "* This will help you identify any specific errors or exceptions related to the database connections.\n",
      "\n",
      "By following these steps, you should be able to identify and fix the underlying issue causing the communication link failure. Good luck!\n",
      "\n"
     ]
    }
   ],
   "source": [
    "questions = [\n",
    "    \"Tell me about the latest 3 errors in the examplelog.txt file\",\n",
    "    \"At what time and date did the latest error occur?\",\n",
    "    \"Give me a suggestion on how to fix it\",\n",
    "]\n",
    "\n",
    "for question in questions:\n",
    "    print(f\"Question: {question}\")\n",
    "    print(f\"Answer: {chain.invoke({'question': question})}\")\n",
    "    print()"
   ]
  },
  {
   "cell_type": "code",
   "execution_count": null,
   "metadata": {},
   "outputs": [],
   "source": []
  },
  {
   "cell_type": "code",
   "execution_count": null,
   "metadata": {},
   "outputs": [],
   "source": []
  },
  {
   "cell_type": "code",
   "execution_count": null,
   "metadata": {},
   "outputs": [],
   "source": []
  }
 ],
 "metadata": {
  "kernelspec": {
   "display_name": ".venv",
   "language": "python",
   "name": "python3"
  },
  "language_info": {
   "codemirror_mode": {
    "name": "ipython",
    "version": 3
   },
   "file_extension": ".py",
   "mimetype": "text/x-python",
   "name": "python",
   "nbconvert_exporter": "python",
   "pygments_lexer": "ipython3",
   "version": "3.9.6"
  }
 },
 "nbformat": 4,
 "nbformat_minor": 2
}
