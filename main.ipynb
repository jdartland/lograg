{
 "cells": [
  {
   "cell_type": "code",
   "execution_count": 1,
   "metadata": {},
   "outputs": [
    {
     "name": "stderr",
     "output_type": "stream",
     "text": [
      "/Users/jdartland/Developer/lograg/.venv/lib/python3.9/site-packages/urllib3/__init__.py:35: NotOpenSSLWarning: urllib3 v2 only supports OpenSSL 1.1.1+, currently the 'ssl' module is compiled with 'LibreSSL 2.8.3'. See: https://github.com/urllib3/urllib3/issues/3020\n",
      "  warnings.warn(\n"
     ]
    }
   ],
   "source": [
    "import os\n",
    "from dotenv import load_dotenv\n",
    "from langchain_community.llms import Ollama\n",
    "from langchain_community.embeddings import OllamaEmbeddings\n",
    "from langchain.document_loaders import TextLoader\n",
    "from langchain_text_splitters import CharacterTextSplitter\n",
    "from langchain.prompts import PromptTemplate\n",
    "from langchain_core.output_parsers import StrOutputParser\n",
    "from langchain_community.vectorstores import DocArrayInMemorySearch\n",
    "from operator import itemgetter\n",
    "from operator import itemgetter"
   ]
  },
  {
   "cell_type": "code",
   "execution_count": 2,
   "metadata": {},
   "outputs": [
    {
     "name": "stdout",
     "output_type": "stream",
     "text": [
      "Trying to load model llama3 from local Ollama instance\n"
     ]
    }
   ],
   "source": [
    "# Load your model from the local Ollama instance\n",
    "load_dotenv()\n",
    "MODEL = os.getenv(\"OLLAMA_MODEL\")\n",
    "\n",
    "try:\n",
    "    print(f\"Trying to load model {MODEL} from local Ollama instance\")\n",
    "    embeddings = OllamaEmbeddings(model=MODEL)\n",
    "    model = Ollama(model=MODEL)\n",
    "    model.invoke(\"\")\n",
    "except Exception as e:\n",
    "    print(f\"Could not load model {MODEL} from local Ollama instance. Exception: {e}\")\n",
    "    exit(1)"
   ]
  },
  {
   "cell_type": "code",
   "execution_count": 3,
   "metadata": {},
   "outputs": [
    {
     "name": "stderr",
     "output_type": "stream",
     "text": [
      "Created a chunk of size 9401, which is longer than the specified 1000\n",
      "Created a chunk of size 2306, which is longer than the specified 1000\n",
      "Created a chunk of size 6568, which is longer than the specified 1000\n",
      "Created a chunk of size 2306, which is longer than the specified 1000\n",
      "Created a chunk of size 6317, which is longer than the specified 1000\n",
      "/Users/jdartland/Developer/lograg/.venv/lib/python3.9/site-packages/pydantic/_migration.py:283: UserWarning: `pydantic.error_wrappers:ValidationError` has been moved to `pydantic:ValidationError`.\n",
      "  warnings.warn(f'`{import_path}` has been moved to `{new_location}`.')\n"
     ]
    }
   ],
   "source": [
    "# Load a textfile, split it into chunks and create a local in-memory vectorstore with the LLM embeddings\n",
    "loader = TextLoader(\"examplelog.txt\")\n",
    "text_splitter = CharacterTextSplitter(chunk_size=1000, chunk_overlap=0)\n",
    "input = loader.load()\n",
    "documents = text_splitter.split_documents(input)\n",
    "vectorstore = DocArrayInMemorySearch.from_documents(documents, embeddings)\n",
    "\n"
   ]
  },
  {
   "cell_type": "code",
   "execution_count": 4,
   "metadata": {},
   "outputs": [
    {
     "data": {
      "text/plain": [
       "[Document(page_content='The last packet sent successfully to the server was 0 milliseconds ago. The driver has not received any packets from the server.\\n\\tat com.mysql.cj.jdbc.exceptions.SQLError.createCommunicationsException(SQLError.java:174)\\n\\tat com.mysql.cj.jdbc.exceptions.SQLExceptionsMapping.translateException(SQLExceptionsMapping.java:64)\\n\\tat com.mysql.cj.jdbc.ConnectionImpl.createNewIO(ConnectionImpl.java:827)\\n\\tat com.mysql.cj.jdbc.ConnectionImpl.<init>(ConnectionImpl.java:447)\\n\\tat com.mysql.cj.jdbc.ConnectionImpl.getInstance(ConnectionImpl.java:237)\\n\\tat com.mysql.cj.jdbc.NonRegisteringDriver.connect(NonRegisteringDriver.java:199)\\n\\tat com.zaxxer.hikari.util.DriverDataSource.getConnection(DriverDataSource.java:136)\\n\\tat com.zaxxer.hikari.pool.PoolBase.newConnection(PoolBase.java:369)\\n\\tat com.zaxxer.hikari.pool.PoolBase.newPoolEntry(PoolBase.java:198)\\n\\tat com.zaxxer.hikari.pool.HikariPool.createPoolEntry(HikariPool.java:467)\\n\\tat com.zaxxer.hikari.pool.HikariPool.checkFailFast(HikariPool.java:541)\\n\\tat com.zaxxer.hikari.pool.HikariPool.<init>(HikariPool.java:115)\\n\\tat com.zaxxer.hikari.HikariDataSource.getConnection(HikariDataSource.java:112)\\n\\tat org.springframework.jdbc.datasource.DataSourceUtils.fetchConnection(DataSourceUtils.java:157)\\n\\tat org.springframework.jdbc.datasource.DataSourceUtils.doGetConnection(DataSourceUtils.java:115)\\n\\tat org.springframework.jdbc.datasource.DataSourceUtils.getConnection(DataSourceUtils.java:78)\\n\\tat org.springframework.jdbc.support.JdbcUtils.extractDatabaseMetaData(JdbcUtils.java:319)\\n\\tat org.springframework.jdbc.support.JdbcUtils.extractDatabaseMetaData(JdbcUtils.java:356)\\n\\tat org.springframework.boot.autoconfigure.orm.jpa.DatabaseLookup.getDatabase(DatabaseLookup.java:73)\\n\\tat org.springframework.boot.autoconfigure.orm.jpa.JpaProperties.determineDatabase(JpaProperties.java:142)\\n\\tat org.springframework.boot.autoconfigure.orm.jpa.JpaBaseConfiguration.jpaVendorAdapter(JpaBaseConfiguration.java:113)\\n\\tat org.springframework.boot.autoconfigure.orm.jpa.HibernateJpaConfiguration$$EnhancerBySpringCGLIB$$1e39bbd6.CGLIB$jpaVendorAdapter$4(<generated>)\\n\\tat org.springframework.boot.autoconfigure.orm.jpa.HibernateJpaConfiguration$$EnhancerBySpringCGLIB$$1e39bbd6$$FastClassBySpringCGLIB$$99a678fb.invoke(<generated>)\\n\\tat org.springframework.cglib.proxy.MethodProxy.invokeSuper(MethodProxy.java:244)\\n\\tat org.springframework.context.annotation.ConfigurationClassEnhancer$BeanMethodInterceptor.intercept(ConfigurationClassEnhancer.java:363)\\n\\tat org.springframework.boot.autoconfigure.orm.jpa.HibernateJpaConfiguration$$EnhancerBySpringCGLIB$$1e39bbd6.jpaVendorAdapter(<generated>)\\n\\tat java.base/jdk.internal.reflect.NativeMethodAccessorImpl.invoke0(Native Method)\\n\\tat java.base/jdk.internal.reflect.NativeMethodAccessorImpl.invoke(NativeMethodAccessorImpl.java:62)\\n\\tat java.base/jdk.internal.reflect.DelegatingMethodAccessorImpl.invoke(DelegatingMethodAccessorImpl.java:43)\\n\\tat java.base/java.lang.reflect.Method.invoke(Method.java:567)\\n\\tat org.springframework.beans.factory.support.SimpleInstantiationStrategy.instantiate(SimpleInstantiationStrategy.java:154)\\n\\tat org.springframework.beans.factory.support.ConstructorResolver.instantiate(ConstructorResolver.java:622)\\n\\tat org.springframework.beans.factory.support.ConstructorResolver.instantiateUsingFactoryMethod(ConstructorResolver.java:456)\\n\\tat org.springframework.beans.factory.support.AbstractAutowireCapableBeanFactory.instantiateUsingFactoryMethod(AbstractAutowireCapableBeanFactory.java:1321)\\n\\tat org.springframework.beans.factory.support.AbstractAutowireCapableBeanFactory.createBeanInstance(AbstractAutowireCapableBeanFactory.java:1160)\\n\\tat org.springframework.beans.factory.support.AbstractAutowireCapableBeanFactory.doCreateBean(AbstractAutowireCapableBeanFactory.java:555)\\n\\tat org.springframework.beans.factory.support.AbstractAutowireCapableBeanFactory.createBean(AbstractAutowireCapableBeanFactory.java:515)\\n\\tat org.springframework.beans.factory.support.AbstractBeanFactory.lambda$doGetBean$0(AbstractBeanFactory.java:320)\\n\\tat org.springframework.beans.factory.support.DefaultSingletonBeanRegistry.getSingleton(DefaultSingletonBeanRegistry.java:222)\\n\\tat org.springframework.beans.factory.support.AbstractBeanFactory.doGetBean(AbstractBeanFactory.java:318)\\n\\tat org.springframework.beans.factory.support.AbstractBeanFactory.getBean(AbstractBeanFactory.java:199)\\n\\tat org.springframework.beans.factory.config.DependencyDescriptor.resolveCandidate(DependencyDescriptor.java:277)\\n\\tat org.springframework.beans.factory.support.DefaultListableBeanFactory.doResolveDependency(DefaultListableBeanFactory.java:1251)\\n\\tat org.springframework.beans.factory.support.DefaultListableBeanFactory.resolveDependency(DefaultListableBeanFactory.java:1171)\\n\\tat org.springframework.beans.factory.support.ConstructorResolver.resolveAutowiredArgument(ConstructorResolver.java:857)\\n\\tat org.springframework.beans.factory.support.ConstructorResolver.createArgumentArray(ConstructorResolver.java:760)\\n\\tat org.springframework.beans.factory.support.ConstructorResolver.instantiateUsingFactoryMethod(ConstructorResolver.java:509)\\n\\tat org.springframework.beans.factory.support.AbstractAutowireCapableBeanFactory.instantiateUsingFactoryMethod(AbstractAutowireCapableBeanFactory.java:1321)\\n\\tat org.springframework.beans.factory.support.AbstractAutowireCapableBeanFactory.createBeanInstance(AbstractAutowireCapableBeanFactory.java:1160)\\n\\tat org.springframework.beans.factory.support.AbstractAutowireCapableBeanFactory.doCreateBean(AbstractAutowireCapableBeanFactory.java:555)\\n\\tat org.springframework.beans.factory.support.AbstractAutowireCapableBeanFactory.createBean(AbstractAutowireCapableBeanFactory.java:515)\\n\\tat org.springframework.beans.factory.support.AbstractBeanFactory.lambda$doGetBean$0(AbstractBeanFactory.java:320)\\n\\tat org.springframework.beans.factory.support.DefaultSingletonBeanRegistry.getSingleton(DefaultSingletonBeanRegistry.java:222)\\n\\tat org.springframework.beans.factory.support.AbstractBeanFactory.doGetBean(AbstractBeanFactory.java:318)\\n\\tat org.springframework.beans.factory.support.AbstractBeanFactory.getBean(AbstractBeanFactory.java:199)\\n\\tat org.springframework.beans.factory.config.DependencyDescriptor.resolveCandidate(DependencyDescriptor.java:277)\\n\\tat org.springframework.beans.factory.support.DefaultListableBeanFactory.doResolveDependency(DefaultListableBeanFactory.java:1251)\\n\\tat org.springframework.beans.factory.support.DefaultListableBeanFactory.resolveDependency(DefaultListableBeanFactory.java:1171)\\n\\tat org.springframework.beans.factory.support.ConstructorResolver.resolveAutowiredArgument(ConstructorResolver.java:857)\\n\\tat org.springframework.beans.factory.support.ConstructorResolver.createArgumentArray(ConstructorResolver.java:760)\\n\\tat org.springframework.beans.factory.support.ConstructorResolver.instantiateUsingFactoryMethod(ConstructorResolver.java:509)\\n\\tat org.springframework.beans.factory.support.AbstractAutowireCapableBeanFactory.instantiateUsingFactoryMethod(AbstractAutowireCapableBeanFactory.java:1321)\\n\\tat org.springframework.beans.factory.support.AbstractAutowireCapableBeanFactory.createBeanInstance(AbstractAutowireCapableBeanFactory.java:1160)\\n\\tat org.springframework.beans.factory.support.AbstractAutowireCapableBeanFactory.doCreateBean(AbstractAutowireCapableBeanFactory.java:555)\\n\\tat org.springframework.beans.factory.support.AbstractAutowireCapableBeanFactory.createBean(AbstractAutowireCapableBeanFactory.java:515)\\n\\tat org.springframework.beans.factory.support.AbstractBeanFactory.lambda$doGetBean$0(AbstractBeanFactory.java:320)\\n\\tat org.springframework.beans.factory.support.DefaultSingletonBeanRegistry.getSingleton(DefaultSingletonBeanRegistry.java:222)\\n\\tat org.springframework.beans.factory.support.AbstractBeanFactory.doGetBean(AbstractBeanFactory.java:318)\\n\\tat org.springframework.beans.factory.support.AbstractBeanFactory.getBean(AbstractBeanFactory.java:199)\\n\\tat org.springframework.context.support.AbstractApplicationContext.getBean(AbstractApplicationContext.java:1105)\\n\\tat org.springframework.context.support.AbstractApplicationContext.finishBeanFactoryInitialization(AbstractApplicationContext.java:867)\\n\\tat org.springframework.context.support.AbstractApplicationContext.refresh(AbstractApplicationContext.java:549)\\n\\tat org.springframework.boot.web.servlet.context.ServletWebServerApplicationContext.refresh(ServletWebServerApplicationContext.java:141)\\n\\tat org.springframework.boot.SpringApplication.refresh(SpringApplication.java:744)\\n\\tat org.springframework.boot.SpringApplication.refreshContext(SpringApplication.java:391)\\n\\tat org.springframework.boot.SpringApplication.run(SpringApplication.java:312)\\n\\tat org.springframework.boot.SpringApplication.run(SpringApplication.java:1215)\\n\\tat org.springframework.boot.SpringApplication.run(SpringApplication.java:1204)\\n\\tat com.bank.atm.AtmApplication.main(AtmApplication.java:12)\\n\\tat java.base/jdk.internal.reflect.NativeMethodAccessorImpl.invoke0(Native Method)\\n\\tat java.base/jdk.internal.reflect.NativeMethodAccessorImpl.invoke(NativeMethodAccessorImpl.java:62)\\n\\tat java.base/jdk.internal.reflect.DelegatingMethodAccessorImpl.invoke(DelegatingMethodAccessorImpl.java:43)\\n\\tat java.base/java.lang.reflect.Method.invoke(Method.java:567)\\n\\tat org.springframework.boot.devtools.restart.RestartLauncher.run(RestartLauncher.java:49)\\nCaused by: com.mysql.cj.exceptions.CJCommunicationsException: Communications link failure', metadata={'source': 'examplelog.txt'}),\n",
       " Document(page_content='The last packet sent successfully to the server was 0 milliseconds ago. The driver has not received any packets from the server.\\n\\tat com.mysql.cj.jdbc.exceptions.SQLError.createCommunicationsException(SQLError.java:174)\\n\\tat com.mysql.cj.jdbc.exceptions.SQLExceptionsMapping.translateException(SQLExceptionsMapping.java:64)\\n\\tat com.mysql.cj.jdbc.ConnectionImpl.createNewIO(ConnectionImpl.java:827)\\n\\tat com.mysql.cj.jdbc.ConnectionImpl.<init>(ConnectionImpl.java:447)\\n\\tat com.mysql.cj.jdbc.ConnectionImpl.getInstance(ConnectionImpl.java:237)\\n\\tat com.mysql.cj.jdbc.NonRegisteringDriver.connect(NonRegisteringDriver.java:199)\\n\\tat com.zaxxer.hikari.util.DriverDataSource.getConnection(DriverDataSource.java:136)\\n\\tat com.zaxxer.hikari.pool.PoolBase.newConnection(PoolBase.java:369)\\n\\tat com.zaxxer.hikari.pool.PoolBase.newPoolEntry(PoolBase.java:198)\\n\\tat com.zaxxer.hikari.pool.HikariPool.createPoolEntry(HikariPool.java:467)\\n\\tat com.zaxxer.hikari.pool.HikariPool.checkFailFast(HikariPool.java:541)\\n\\tat com.zaxxer.hikari.pool.HikariPool.<init>(HikariPool.java:115)\\n\\tat com.zaxxer.hikari.HikariDataSource.getConnection(HikariDataSource.java:112)\\n\\tat org.springframework.jdbc.datasource.DataSourceUtils.fetchConnection(DataSourceUtils.java:157)\\n\\tat org.springframework.jdbc.datasource.DataSourceUtils.doGetConnection(DataSourceUtils.java:115)\\n\\tat org.springframework.jdbc.datasource.DataSourceUtils.getConnection(DataSourceUtils.java:78)\\n\\tat org.springframework.jdbc.core.JdbcTemplate.execute(JdbcTemplate.java:323)\\n\\tat org.springframework.boot.jdbc.EmbeddedDatabaseConnection.isEmbedded(EmbeddedDatabaseConnection.java:120)\\n\\tat org.springframework.boot.autoconfigure.orm.jpa.HibernateDefaultDdlAutoProvider.getDefaultDdlAuto(HibernateDefaultDdlAutoProvider.java:42)\\n\\tat org.springframework.boot.autoconfigure.orm.jpa.HibernateJpaConfiguration.lambda$getVendorProperties$1(HibernateJpaConfiguration.java:132)\\n\\tat org.springframework.boot.autoconfigure.orm.jpa.HibernateSettings.getDdlAuto(HibernateSettings.java:41)\\n\\tat org.springframework.boot.autoconfigure.orm.jpa.HibernateProperties.determineDdlAuto(HibernateProperties.java:126)\\n\\tat org.springframework.boot.autoconfigure.orm.jpa.HibernateProperties.getAdditionalProperties(HibernateProperties.java:98)\\n\\tat org.springframework.boot.autoconfigure.orm.jpa.HibernateProperties.determineHibernateProperties(HibernateProperties.java:91)\\n\\tat org.springframework.boot.autoconfigure.orm.jpa.HibernateJpaConfiguration.getVendorProperties(HibernateJpaConfiguration.java:134)\\n\\tat org.springframework.boot.autoconfigure.orm.jpa.JpaBaseConfiguration.entityManagerFactory(JpaBaseConfiguration.java:134)\\n\\tat org.springframework.boot.autoconfigure.orm.jpa.HibernateJpaConfiguration$$EnhancerBySpringCGLIB$$1e39bbd6.CGLIB$entityManagerFactory$5(<generated>)\\n\\tat org.springframework.boot.autoconfigure.orm.jpa.HibernateJpaConfiguration$$EnhancerBySpringCGLIB$$1e39bbd6$$FastClassBySpringCGLIB$$99a678fb.invoke(<generated>)\\n\\tat org.springframework.cglib.proxy.MethodProxy.invokeSuper(MethodProxy.java:244)\\n\\tat org.springframework.context.annotation.ConfigurationClassEnhancer$BeanMethodInterceptor.intercept(ConfigurationClassEnhancer.java:363)\\n\\tat org.springframework.boot.autoconfigure.orm.jpa.HibernateJpaConfiguration$$EnhancerBySpringCGLIB$$1e39bbd6.entityManagerFactory(<generated>)\\n\\tat java.base/jdk.internal.reflect.NativeMethodAccessorImpl.invoke0(Native Method)\\n\\tat java.base/jdk.internal.reflect.NativeMethodAccessorImpl.invoke(NativeMethodAccessorImpl.java:62)\\n\\tat java.base/jdk.internal.reflect.DelegatingMethodAccessorImpl.invoke(DelegatingMethodAccessorImpl.java:43)\\n\\tat java.base/java.lang.reflect.Method.invoke(Method.java:567)\\n\\tat org.springframework.beans.factory.support.SimpleInstantiationStrategy.instantiate(SimpleInstantiationStrategy.java:154)\\n\\tat org.springframework.beans.factory.support.ConstructorResolver.instantiate(ConstructorResolver.java:622)\\n\\tat org.springframework.beans.factory.support.ConstructorResolver.instantiateUsingFactoryMethod(ConstructorResolver.java:607)\\n\\tat org.springframework.beans.factory.support.AbstractAutowireCapableBeanFactory.instantiateUsingFactoryMethod(AbstractAutowireCapableBeanFactory.java:1321)\\n\\tat org.springframework.beans.factory.support.AbstractAutowireCapableBeanFactory.createBeanInstance(AbstractAutowireCapableBeanFactory.java:1160)\\n\\tat org.springframework.beans.factory.support.AbstractAutowireCapableBeanFactory.doCreateBean(AbstractAutowireCapableBeanFactory.java:555)\\n\\tat org.springframework.beans.factory.support.AbstractAutowireCapableBeanFactory.createBean(AbstractAutowireCapableBeanFactory.java:515)\\n\\tat org.springframework.beans.factory.support.AbstractBeanFactory.lambda$doGetBean$0(AbstractBeanFactory.java:320)\\n\\tat org.springframework.beans.factory.support.DefaultSingletonBeanRegistry.getSingleton(DefaultSingletonBeanRegistry.java:222)\\n\\tat org.springframework.beans.factory.support.AbstractBeanFactory.doGetBean(AbstractBeanFactory.java:318)\\n\\tat org.springframework.beans.factory.support.AbstractBeanFactory.getBean(AbstractBeanFactory.java:199)\\n\\tat org.springframework.context.support.AbstractApplicationContext.getBean(AbstractApplicationContext.java:1105)\\n\\tat org.springframework.context.support.AbstractApplicationContext.finishBeanFactoryInitialization(AbstractApplicationContext.java:867)\\n\\tat org.springframework.context.support.AbstractApplicationContext.refresh(AbstractApplicationContext.java:549)\\n\\tat org.springframework.boot.web.servlet.context.ServletWebServerApplicationContext.refresh(ServletWebServerApplicationContext.java:141)\\n\\tat org.springframework.boot.SpringApplication.refresh(SpringApplication.java:744)\\n\\tat org.springframework.boot.SpringApplication.refreshContext(SpringApplication.java:391)\\n\\tat org.springframework.boot.SpringApplication.run(SpringApplication.java:312)\\n\\tat org.springframework.boot.SpringApplication.run(SpringApplication.java:1215)\\n\\tat org.springframework.boot.SpringApplication.run(SpringApplication.java:1204)\\n\\tat com.bank.atm.AtmApplication.main(AtmApplication.java:12)\\n\\tat java.base/jdk.internal.reflect.NativeMethodAccessorImpl.invoke0(Native Method)\\n\\tat java.base/jdk.internal.reflect.NativeMethodAccessorImpl.invoke(NativeMethodAccessorImpl.java:62)\\n\\tat java.base/jdk.internal.reflect.DelegatingMethodAccessorImpl.invoke(DelegatingMethodAccessorImpl.java:43)\\n\\tat java.base/java.lang.reflect.Method.invoke(Method.java:567)\\n\\tat org.springframework.boot.devtools.restart.RestartLauncher.run(RestartLauncher.java:49)\\nCaused by: com.mysql.cj.exceptions.CJCommunicationsException: Communications link failure', metadata={'source': 'examplelog.txt'}),\n",
       " Document(page_content='The last packet sent successfully to the server was 0 milliseconds ago. The driver has not received any packets from the server.\\n\\tat com.mysql.cj.jdbc.exceptions.SQLError.createCommunicationsException(SQLError.java:174)\\n\\tat com.mysql.cj.jdbc.exceptions.SQLExceptionsMapping.translateException(SQLExceptionsMapping.java:64)\\n\\tat com.mysql.cj.jdbc.ConnectionImpl.createNewIO(ConnectionImpl.java:827)\\n\\tat com.mysql.cj.jdbc.ConnectionImpl.<init>(ConnectionImpl.java:447)\\n\\tat com.mysql.cj.jdbc.ConnectionImpl.getInstance(ConnectionImpl.java:237)\\n\\tat com.mysql.cj.jdbc.NonRegisteringDriver.connect(NonRegisteringDriver.java:199)\\n\\tat com.zaxxer.hikari.util.DriverDataSource.getConnection(DriverDataSource.java:136)\\n\\tat com.zaxxer.hikari.pool.PoolBase.newConnection(PoolBase.java:369)\\n\\tat com.zaxxer.hikari.pool.PoolBase.newPoolEntry(PoolBase.java:198)\\n\\tat com.zaxxer.hikari.pool.HikariPool.createPoolEntry(HikariPool.java:467)\\n\\tat com.zaxxer.hikari.pool.HikariPool.checkFailFast(HikariPool.java:541)\\n\\tat com.zaxxer.hikari.pool.HikariPool.<init>(HikariPool.java:115)\\n\\tat com.zaxxer.hikari.HikariDataSource.getConnection(HikariDataSource.java:112)\\n\\tat org.hibernate.engine.jdbc.connections.internal.DatasourceConnectionProviderImpl.getConnection(DatasourceConnectionProviderImpl.java:122)\\n\\tat org.hibernate.engine.jdbc.env.internal.JdbcEnvironmentInitiator$ConnectionProviderJdbcConnectionAccess.obtainConnection(JdbcEnvironmentInitiator.java:180)\\n\\tat org.hibernate.engine.jdbc.env.internal.JdbcEnvironmentInitiator.initiateService(JdbcEnvironmentInitiator.java:68)\\n\\tat org.hibernate.engine.jdbc.env.internal.JdbcEnvironmentInitiator.initiateService(JdbcEnvironmentInitiator.java:35)\\n\\tat org.hibernate.boot.registry.internal.StandardServiceRegistryImpl.initiateService(StandardServiceRegistryImpl.java:94)\\n\\tat org.hibernate.service.internal.AbstractServiceRegistryImpl.createService(AbstractServiceRegistryImpl.java:263)\\n\\tat org.hibernate.service.internal.AbstractServiceRegistryImpl.initializeService(AbstractServiceRegistryImpl.java:237)\\n\\tat org.hibernate.service.internal.AbstractServiceRegistryImpl.getService(AbstractServiceRegistryImpl.java:214)\\n\\tat org.hibernate.id.factory.internal.DefaultIdentifierGeneratorFactory.injectServices(DefaultIdentifierGeneratorFactory.java:152)\\n\\tat org.hibernate.service.internal.AbstractServiceRegistryImpl.injectDependencies(AbstractServiceRegistryImpl.java:286)\\n\\tat org.hibernate.service.internal.AbstractServiceRegistryImpl.initializeService(AbstractServiceRegistryImpl.java:243)\\n\\tat org.hibernate.service.internal.AbstractServiceRegistryImpl.getService(AbstractServiceRegistryImpl.java:214)\\n\\tat org.hibernate.boot.internal.InFlightMetadataCollectorImpl.<init>(InFlightMetadataCollectorImpl.java:179)\\n\\tat org.hibernate.boot.model.process.spi.MetadataBuildingProcess.complete(MetadataBuildingProcess.java:119)\\n\\tat org.hibernate.jpa.boot.internal.EntityManagerFactoryBuilderImpl.metadata(EntityManagerFactoryBuilderImpl.java:904)\\n\\tat org.hibernate.jpa.boot.internal.EntityManagerFactoryBuilderImpl.build(EntityManagerFactoryBuilderImpl.java:935)\\n\\tat org.springframework.orm.jpa.vendor.SpringHibernateJpaPersistenceProvider.createContainerEntityManagerFactory(SpringHibernateJpaPersistenceProvider.java:57)\\n\\tat org.springframework.orm.jpa.LocalContainerEntityManagerFactoryBean.createNativeEntityManagerFactory(LocalContainerEntityManagerFactoryBean.java:365)\\n\\tat org.springframework.orm.jpa.AbstractEntityManagerFactoryBean.buildNativeEntityManagerFactory(AbstractEntityManagerFactoryBean.java:390)\\n\\tat org.springframework.orm.jpa.AbstractEntityManagerFactoryBean.afterPropertiesSet(AbstractEntityManagerFactoryBean.java:377)\\n\\tat org.springframework.orm.jpa.LocalContainerEntityManagerFactoryBean.afterPropertiesSet(LocalContainerEntityManagerFactoryBean.java:341)\\n\\tat org.springframework.beans.factory.support.AbstractAutowireCapableBeanFactory.invokeInitMethods(AbstractAutowireCapableBeanFactory.java:1837)\\n\\tat org.springframework.beans.factory.support.AbstractAutowireCapableBeanFactory.initializeBean(AbstractAutowireCapableBeanFactory.java:1774)\\n\\tat org.springframework.beans.factory.support.AbstractAutowireCapableBeanFactory.doCreateBean(AbstractAutowireCapableBeanFactory.java:593)\\n\\tat org.springframework.beans.factory.support.AbstractAutowireCapableBeanFactory.createBean(AbstractAutowireCapableBeanFactory.java:515)\\n\\tat org.springframework.beans.factory.support.AbstractBeanFactory.lambda$doGetBean$0(AbstractBeanFactory.java:320)\\n\\tat org.springframework.beans.factory.support.DefaultSingletonBeanRegistry.getSingleton(DefaultSingletonBeanRegistry.java:222)\\n\\tat org.springframework.beans.factory.support.AbstractBeanFactory.doGetBean(AbstractBeanFactory.java:318)\\n\\tat org.springframework.beans.factory.support.AbstractBeanFactory.getBean(AbstractBeanFactory.java:199)\\n\\tat org.springframework.context.support.AbstractApplicationContext.getBean(AbstractApplicationContext.java:1105)\\n\\tat org.springframework.context.support.AbstractApplicationContext.finishBeanFactoryInitialization(AbstractApplicationContext.java:867)\\n\\tat org.springframework.context.support.AbstractApplicationContext.refresh(AbstractApplicationContext.java:549)\\n\\tat org.springframework.boot.web.servlet.context.ServletWebServerApplicationContext.refresh(ServletWebServerApplicationContext.java:141)\\n\\tat org.springframework.boot.SpringApplication.refresh(SpringApplication.java:744)\\n\\tat org.springframework.boot.SpringApplication.refreshContext(SpringApplication.java:391)\\n\\tat org.springframework.boot.SpringApplication.run(SpringApplication.java:312)\\n\\tat org.springframework.boot.SpringApplication.run(SpringApplication.java:1215)\\n\\tat org.springframework.boot.SpringApplication.run(SpringApplication.java:1204)\\n\\tat com.bank.atm.AtmApplication.main(AtmApplication.java:12)\\n\\tat java.base/jdk.internal.reflect.NativeMethodAccessorImpl.invoke0(Native Method)\\n\\tat java.base/jdk.internal.reflect.NativeMethodAccessorImpl.invoke(NativeMethodAccessorImpl.java:62)\\n\\tat java.base/jdk.internal.reflect.DelegatingMethodAccessorImpl.invoke(DelegatingMethodAccessorImpl.java:43)\\n\\tat java.base/java.lang.reflect.Method.invoke(Method.java:567)\\n\\tat org.springframework.boot.devtools.restart.RestartLauncher.run(RestartLauncher.java:49)\\nCaused by: com.mysql.cj.exceptions.CJCommunicationsException: Communications link failure', metadata={'source': 'examplelog.txt'}),\n",
       " Document(page_content='The last packet sent successfully to the server was 0 milliseconds ago. The driver has not received any packets from the server.\\n\\tat java.base/jdk.internal.reflect.NativeConstructorAccessorImpl.newInstance0(Native Method)\\n\\tat java.base/jdk.internal.reflect.NativeConstructorAccessorImpl.newInstance(NativeConstructorAccessorImpl.java:62)\\n\\tat java.base/jdk.internal.reflect.DelegatingConstructorAccessorImpl.newInstance(DelegatingConstructorAccessorImpl.java:45)\\n\\tat java.base/java.lang.reflect.Constructor.newInstanceWithCaller(Constructor.java:500)\\n\\tat java.base/java.lang.reflect.Constructor.newInstance(Constructor.java:481)\\n\\tat com.mysql.cj.exceptions.ExceptionFactory.createException(ExceptionFactory.java:61)\\n\\tat com.mysql.cj.exceptions.ExceptionFactory.createException(ExceptionFactory.java:105)\\n\\tat com.mysql.cj.exceptions.ExceptionFactory.createException(ExceptionFactory.java:151)\\n\\tat com.mysql.cj.exceptions.ExceptionFactory.createCommunicationsException(ExceptionFactory.java:167)\\n\\tat com.mysql.cj.protocol.a.NativeSocketConnection.connect(NativeSocketConnection.java:91)\\n\\tat com.mysql.cj.NativeSession.connect(NativeSession.java:150)\\n\\tat com.mysql.cj.jdbc.ConnectionImpl.connectOneTryOnly(ConnectionImpl.java:947)\\n\\tat com.mysql.cj.jdbc.ConnectionImpl.createNewIO(ConnectionImpl.java:817)\\n\\t... 58 common frames omitted\\nCaused by: java.net.ConnectException: Connection refused (Connection refused)\\n\\tat java.base/java.net.PlainSocketImpl.socketConnect(Native Method)\\n\\tat java.base/java.net.AbstractPlainSocketImpl.doConnect(AbstractPlainSocketImpl.java:399)\\n\\tat java.base/java.net.AbstractPlainSocketImpl.connectToAddress(AbstractPlainSocketImpl.java:242)\\n\\tat java.base/java.net.AbstractPlainSocketImpl.connect(AbstractPlainSocketImpl.java:224)\\n\\tat java.base/java.net.SocksSocketImpl.connect(SocksSocketImpl.java:403)\\n\\tat java.base/java.net.Socket.connect(Socket.java:591)\\n\\tat com.mysql.cj.protocol.StandardSocketFactory.connect(StandardSocketFactory.java:155)\\n\\tat com.mysql.cj.protocol.a.NativeSocketConnection.connect(NativeSocketConnection.java:65)\\n\\t... 61 common frames omitted\\n2019-09-17 10:14:31,769 ERROR com.zaxxer.hikari.pool.HikariPool [restartedMain] HikariPool-1 - Exception during pool initialization.\\ncom.mysql.cj.jdbc.exceptions.CommunicationsException: Communications link failure', metadata={'source': 'examplelog.txt'})]"
      ]
     },
     "execution_count": 4,
     "metadata": {},
     "output_type": "execute_result"
    }
   ],
   "source": [
    "# Create a retiever component from the vectorstore - a retriver is something that gets any infromation(not only from a vectorstore)\n",
    "retriver = vectorstore.as_retriever()\n",
    "# Return the 4 top most relevant documents which relates to the word \"ERROR\"\n",
    "retriver.invoke(\"ERROR\")"
   ]
  },
  {
   "cell_type": "code",
   "execution_count": 5,
   "metadata": {},
   "outputs": [],
   "source": [
    "# Define a prompt template which will be used to generate the final response\n",
    "template = \"\"\"Answer the following questions in as much detail as possible. \n",
    "If you don't know the answer, just say that you don't know, don't try to make up an answer.\n",
    "\n",
    "Context: {context}\n",
    "Question: {question}\n",
    "\n",
    "\"\"\""
   ]
  },
  {
   "cell_type": "code",
   "execution_count": 6,
   "metadata": {},
   "outputs": [
    {
     "data": {
      "text/plain": [
       "{'title': 'RunnableParallel<context,question>Input',\n",
       " 'type': 'object',\n",
       " 'properties': {'question': {'title': 'Question'}}}"
      ]
     },
     "execution_count": 6,
     "metadata": {},
     "output_type": "execute_result"
    }
   ],
   "source": [
    "prompt = PromptTemplate.from_template(template)\n",
    "\n",
    "parser = StrOutputParser()\n",
    "\n",
    "# create a chain - chain is a pipeline of prompt(expect a runnable map containing a context and a question), model and parser\n",
    "# context - pass the question to a retriver to obtain the context\n",
    "# question - the value of the question\n",
    "chain = ( {\n",
    "    \"context\": itemgetter(\"question\") | retriver, \n",
    "    \"question\": itemgetter(\"question\")\n",
    "    } \n",
    "    | prompt | model | parser)\n",
    "\n",
    "chain.input_schema.schema()"
   ]
  },
  {
   "cell_type": "code",
   "execution_count": 7,
   "metadata": {},
   "outputs": [
    {
     "name": "stdout",
     "output_type": "stream",
     "text": [
      "Question: Tell me about the latest 3 errors in the examplelog.txt file\n",
      "Answer: Based on the provided stack trace, I'll analyze the latest three errors:\n",
      "\n",
      "1. **Error:** `Communications link failure`\n",
      "\n",
      "**Caused by:** `com.mysql.cj.exceptions.CommunicationsException`\n",
      "\n",
      "This error occurs at line 167 of `ExceptionFactory.java` in the `com.mysql.cj.exceptions.ExceptionFactory` class.\n",
      "\n",
      "The error message indicates a connection refused exception (`Connection refused`). This suggests that the MySQL driver (MySQL Connector/J) is unable to establish a connection to the database server. The exact reason for this failure is not specified, but it could be due to various factors such as network issues, firewall restrictions, or incorrect database configuration.\n",
      "\n",
      "2. **Error:** `Communications link failure`\n",
      "\n",
      "**Caused by:** `java.net.ConnectException`\n",
      "\n",
      "This error occurs at line 224 of `AbstractPlainSocketImpl.java` in the `java.base` package.\n",
      "\n",
      "The error message is identical to the previous one (`Connection refused`). The cause of this failure is a `ConnectException`, which indicates that the Java socket implementation was unable to establish a connection to the server. This could be due to issues with the network, firewall restrictions, or incorrect database configuration.\n",
      "\n",
      "3. **Error:** `Communications link failure`\n",
      "\n",
      "**Caused by:** `com.mysql.cj.exceptions.CommunicationsException`\n",
      "\n",
      "This error occurs at line 91 of `NativeSocketConnection.java` in the `com.mysql.cj.protocol.a` package.\n",
      "\n",
      "The error message is identical to the first two (`Communications link failure`). The cause of this failure is a `CommunicationsException`, which suggests that there was an issue with the communication link between the MySQL driver and the database server. This could be due to network issues, firewall restrictions, or incorrect database configuration.\n",
      "\n",
      "In summary, all three errors indicate a connection refused exception (`Connection refused`) or a communications link failure. The root cause of these failures is likely related to network issues, firewall restrictions, or incorrect database configuration.\n",
      "\n",
      "Question: At what time and date did the latest error occur?\n",
      "Answer: According to the stack trace, the latest error occurred on September 17, 2019 at 10:14:31,769.\n",
      "\n",
      "Question: Give me a suggestion on how to fix it\n",
      "Answer: A classic stack trace!\n",
      "\n",
      "From what I can see, the issue seems to be related to MySQL connectivity. The error message indicates that there's a \"Communications link failure\" which is preventing your application from connecting to the database.\n",
      "\n",
      "Here are some suggestions to help you fix this:\n",
      "\n",
      "1. **Check your MySQL connection settings**: Verify that your MySQL username, password, and hostname/IP address are correct.\n",
      "2. **Ensure your MySQL server is running and accessible**: Make sure that your MySQL server is up and running, and that your application can reach it (e.g., check your firewall rules).\n",
      "3. **Investigate any network issues**: If you're experiencing a connection failure, there might be an underlying network issue preventing the connection from being established.\n",
      "4. **Update your MySQL connector driver**: The error message mentions `com.mysql.cj.exceptions.CommunicationsException`, which suggests that you may be using an outdated or incompatible MySQL connector driver. Check for updates and try upgrading to the latest version.\n",
      "5. **Configure HikariCP (if used)**: If you're using HikariCP as your connection pool, ensure that its configuration settings are correct and compatible with your MySQL setup.\n",
      "\n",
      "To help you further troubleshoot this issue, I'd recommend adding some logging statements or debug output to see where exactly the error is occurring. You can also try running a simple MySQL client tool (e.g., `mysql -h <hostname> -u <username> -p<password>`) to test your connection from the command line.\n",
      "\n",
      "If none of these suggestions help, please provide more details about your environment, application configuration, and any relevant logs or error messages. I'll be happy to assist you in debugging this further!\n",
      "\n"
     ]
    }
   ],
   "source": [
    "questions = [\n",
    "    \"Tell me about the latest 3 errors in the examplelog.txt file\",\n",
    "    \"At what time and date did the latest error occur?\",\n",
    "    \"Give me a suggestion on how to fix it\",\n",
    "]\n",
    "\n",
    "for question in questions:\n",
    "    print(f\"Question: {question}\")\n",
    "    print(f\"Answer: {chain.invoke({'question': question})}\")\n",
    "    print()"
   ]
  },
  {
   "cell_type": "code",
   "execution_count": null,
   "metadata": {},
   "outputs": [],
   "source": []
  },
  {
   "cell_type": "code",
   "execution_count": null,
   "metadata": {},
   "outputs": [],
   "source": []
  },
  {
   "cell_type": "code",
   "execution_count": null,
   "metadata": {},
   "outputs": [],
   "source": []
  }
 ],
 "metadata": {
  "kernelspec": {
   "display_name": ".venv",
   "language": "python",
   "name": "python3"
  },
  "language_info": {
   "codemirror_mode": {
    "name": "ipython",
    "version": 3
   },
   "file_extension": ".py",
   "mimetype": "text/x-python",
   "name": "python",
   "nbconvert_exporter": "python",
   "pygments_lexer": "ipython3",
   "version": "3.9.6"
  }
 },
 "nbformat": 4,
 "nbformat_minor": 2
}
